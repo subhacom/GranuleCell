{
  "nbformat": 4,
  "nbformat_minor": 0,
  "metadata": {
    "colab": {
      "name": "Wisconsin_breast_cancer_data.ipynb",
      "version": "0.3.2",
      "provenance": [],
      "private_outputs": true,
      "collapsed_sections": [],
      "include_colab_link": true
    },
    "language_info": {
      "codemirror_mode": {
        "name": "ipython",
        "version": 3
      },
      "file_extension": ".py",
      "mimetype": "text/x-python",
      "name": "python",
      "nbconvert_exporter": "python",
      "pygments_lexer": "ipython3",
      "version": "3.6.7"
    },
    "kernelspec": {
      "display_name": "Python 3",
      "language": "python",
      "name": "python3"
    }
  },
  "cells": [
    {
      "cell_type": "markdown",
      "metadata": {
        "id": "view-in-github",
        "colab_type": "text"
      },
      "source": [
        "<a href=\"https://colab.research.google.com/github/subhacom/GranuleCell/blob/master/Wisconsin_breast_cancer_data.ipynb\" target=\"_parent\"><img src=\"https://colab.research.google.com/assets/colab-badge.svg\" alt=\"Open In Colab\"/></a>"
      ]
    },
    {
      "cell_type": "markdown",
      "metadata": {
        "id": "JJmY6YgAQCZP",
        "colab_type": "text"
      },
      "source": [
        "\n",
        "# Using Jupyter\n",
        "## About environments\n",
        "- You can install Python/Jupyter on your own computer\n",
        "- Or you can use environments available on the cloud\n",
        "  - binder\n",
        "  - colaboratory\n",
        "  - kaggle\n",
        "  - azure\n",
        "- See https://www.dataschool.io/cloud-services-for-jupyter-notebook/ for a comparison of some of the popular ones.\n",
        "\n",
        "### Pros of local environment\n",
        " 1. You have full control of the system\n",
        " 2. No time limit\n",
        " 3. No data limit - you can use your data on a local disk - no need to upload data\n",
        " 4. Full function of Jupyter notebooks \n",
        " 5. No security restrictions\n",
        "  \n",
        "### Cons of local environments\n",
        " 1. You have to set up and manage it\n",
        " 2. You are limited by the hardware you have (may be expensive)\n",
        " 3. Not the optimal use of resources\n",
        " 4. Not easy to access from elsewhere\n",
        " 5. Not easy to share and collaborate with others\n",
        " \n",
        "  \n",
        "## Jupyter basics\n",
        "- Cells: Code and markdown\n",
        "- Output\n",
        "- Check the keyboard shortcuts from help menu\n",
        "- Save and checkpoint\n",
        "- File format: .ipynb\n",
        "\n"
      ]
    },
    {
      "cell_type": "markdown",
      "metadata": {
        "colab_type": "text",
        "id": "WgOrXZ1HjyYY"
      },
      "source": [
        "# Tutorial on using numpy and matplotlib"
      ]
    },
    {
      "cell_type": "markdown",
      "metadata": {
        "colab_type": "text",
        "id": "3zGrJdPej9MQ"
      },
      "source": [
        "Import required libraries (modules). The first two are part of Python standard library."
      ]
    },
    {
      "cell_type": "code",
      "metadata": {
        "colab_type": "code",
        "id": "Ei8lfdKkABLH",
        "colab": {}
      },
      "source": [
        "import io\n",
        "import requests"
      ],
      "execution_count": 0,
      "outputs": []
    },
    {
      "cell_type": "markdown",
      "metadata": {
        "colab_type": "text",
        "id": "pBM4ePhP6pFz"
      },
      "source": [
        "`numpy` and `matplotlib` are third-party libraries that are installed separately from `Python`. On your personal system I recommend installing **Anaconda** python distribution as a convenient, portable way to set up a scientific computing environment. Anaconda comes bundled with most commonly used libraries and you can easily install additional requirements."
      ]
    },
    {
      "cell_type": "code",
      "metadata": {
        "colab_type": "code",
        "id": "iuZE-dRe6pF_",
        "colab": {}
      },
      "source": [
        "import numpy as np\n",
        "# import pandas as pd\n",
        "from matplotlib import pyplot as plt"
      ],
      "execution_count": 0,
      "outputs": []
    },
    {
      "cell_type": "markdown",
      "metadata": {
        "colab_type": "text",
        "id": "wt0t437PGT6r"
      },
      "source": [
        "## Homogeneous arrays\n",
        "### Basic operations"
      ]
    },
    {
      "cell_type": "code",
      "metadata": {
        "colab_type": "code",
        "id": "T14df3-EGffQ",
        "colab": {}
      },
      "source": [
        "myarray = np.array([1, 2, 3])"
      ],
      "execution_count": 0,
      "outputs": []
    },
    {
      "cell_type": "code",
      "metadata": {
        "colab_type": "code",
        "id": "uMVMoPafGi5c",
        "colab": {}
      },
      "source": [
        "print(myarray)"
      ],
      "execution_count": 0,
      "outputs": []
    },
    {
      "cell_type": "code",
      "metadata": {
        "colab_type": "code",
        "id": "sAwLNePDGlZH",
        "colab": {}
      },
      "source": [
        "myarray"
      ],
      "execution_count": 0,
      "outputs": []
    },
    {
      "cell_type": "code",
      "metadata": {
        "colab_type": "code",
        "id": "TQaAVPejGwdW",
        "colab": {}
      },
      "source": [
        "myarray.T"
      ],
      "execution_count": 0,
      "outputs": []
    },
    {
      "cell_type": "markdown",
      "metadata": {
        "colab_type": "text",
        "id": "e244GEgfG6U8"
      },
      "source": [
        "#### You can make multidimensional arrays."
      ]
    },
    {
      "cell_type": "code",
      "metadata": {
        "colab_type": "code",
        "id": "kx40Kop9G_18",
        "colab": {}
      },
      "source": [
        "myarray2 = np.array([[0, 1, 2, 3], [4, 5, 6, 8]])"
      ],
      "execution_count": 0,
      "outputs": []
    },
    {
      "cell_type": "code",
      "metadata": {
        "colab_type": "code",
        "id": "QudEGCrXHMmW",
        "colab": {}
      },
      "source": [
        "myarray2"
      ],
      "execution_count": 0,
      "outputs": []
    },
    {
      "cell_type": "code",
      "metadata": {
        "id": "ED30URK_QCbu",
        "colab_type": "code",
        "colab": {}
      },
      "source": [
        "myarray2.shape"
      ],
      "execution_count": 0,
      "outputs": []
    },
    {
      "cell_type": "code",
      "metadata": {
        "id": "D2FukIe0QCb6",
        "colab_type": "code",
        "colab": {}
      },
      "source": [
        "len(myarray2)"
      ],
      "execution_count": 0,
      "outputs": []
    },
    {
      "cell_type": "code",
      "metadata": {
        "colab_type": "code",
        "id": "E0UMWVVGHPEG",
        "colab": {}
      },
      "source": [
        "myarray2.T"
      ],
      "execution_count": 0,
      "outputs": []
    },
    {
      "cell_type": "markdown",
      "metadata": {
        "colab_type": "text",
        "id": "L2a9snv1HULR"
      },
      "source": [
        "### Element-wise arithmetic on arrays"
      ]
    },
    {
      "cell_type": "code",
      "metadata": {
        "colab_type": "code",
        "id": "ygci-OKpHZui",
        "colab": {}
      },
      "source": [
        "2 * myarray"
      ],
      "execution_count": 0,
      "outputs": []
    },
    {
      "cell_type": "code",
      "metadata": {
        "colab_type": "code",
        "id": "pn8XAdDBHeYb",
        "colab": {}
      },
      "source": [
        "2**myarray"
      ],
      "execution_count": 0,
      "outputs": []
    },
    {
      "cell_type": "code",
      "metadata": {
        "colab_type": "code",
        "id": "MIpRnfh3Hgx8",
        "colab": {}
      },
      "source": [
        "2*myarray2"
      ],
      "execution_count": 0,
      "outputs": []
    },
    {
      "cell_type": "code",
      "metadata": {
        "colab_type": "code",
        "id": "XrkhZHApHkU8",
        "colab": {}
      },
      "source": [
        "myarray2**2"
      ],
      "execution_count": 0,
      "outputs": []
    },
    {
      "cell_type": "code",
      "metadata": {
        "colab_type": "code",
        "id": "_Qe2e2g6HwBz",
        "colab": {}
      },
      "source": [
        "myarray + 2"
      ],
      "execution_count": 0,
      "outputs": []
    },
    {
      "cell_type": "code",
      "metadata": {
        "colab_type": "code",
        "id": "udV44WB0HpcF",
        "colab": {}
      },
      "source": [
        "myarray + myarray2"
      ],
      "execution_count": 0,
      "outputs": []
    },
    {
      "cell_type": "markdown",
      "metadata": {
        "colab_type": "text",
        "id": "mG0xgEA9BKok"
      },
      "source": [
        "#### Pause here: You just encountered Python's error handling mechanism!\n",
        "- Can you relate to your experience with errors in other languages?\n",
        "- Explain error handling for beginners.\n"
      ]
    },
    {
      "cell_type": "markdown",
      "metadata": {
        "id": "we5AQkwj-rdl",
        "colab_type": "text"
      },
      "source": [
        "### Other ways of creating arrays"
      ]
    },
    {
      "cell_type": "code",
      "metadata": {
        "id": "gU5V7YH1-8Pn",
        "colab_type": "code",
        "colab": {}
      },
      "source": [
        "a0 = np.zeros((4, 5))"
      ],
      "execution_count": 0,
      "outputs": []
    },
    {
      "cell_type": "code",
      "metadata": {
        "id": "_qcKH4Z0_HZL",
        "colab_type": "code",
        "colab": {}
      },
      "source": [
        "a0"
      ],
      "execution_count": 0,
      "outputs": []
    },
    {
      "cell_type": "code",
      "metadata": {
        "id": "2k0Zg9eD_JX5",
        "colab_type": "code",
        "colab": {}
      },
      "source": [
        "a1 = np.ones((4, 5))"
      ],
      "execution_count": 0,
      "outputs": []
    },
    {
      "cell_type": "code",
      "metadata": {
        "id": "u6Nu5qq0_NDd",
        "colab_type": "code",
        "colab": {}
      },
      "source": [
        "a1"
      ],
      "execution_count": 0,
      "outputs": []
    },
    {
      "cell_type": "code",
      "metadata": {
        "id": "U7XRJqe9_Pcb",
        "colab_type": "code",
        "colab": {}
      },
      "source": [
        "ai = np.eye(4)"
      ],
      "execution_count": 0,
      "outputs": []
    },
    {
      "cell_type": "code",
      "metadata": {
        "id": "4vB73Rko_knd",
        "colab_type": "code",
        "colab": {}
      },
      "source": [
        "ai"
      ],
      "execution_count": 0,
      "outputs": []
    },
    {
      "cell_type": "code",
      "metadata": {
        "id": "MkfD9ef8_rPM",
        "colab_type": "code",
        "colab": {}
      },
      "source": [
        "a2 = np.arange(2.0, 7.0, 1.5)"
      ],
      "execution_count": 0,
      "outputs": []
    },
    {
      "cell_type": "code",
      "metadata": {
        "id": "hPRWGNAr_zo5",
        "colab_type": "code",
        "colab": {}
      },
      "source": [
        "a2"
      ],
      "execution_count": 0,
      "outputs": []
    },
    {
      "cell_type": "code",
      "metadata": {
        "id": "94COGBB-_2aK",
        "colab_type": "code",
        "colab": {}
      },
      "source": [
        "a3 = np.linspace(2, 7, 3)"
      ],
      "execution_count": 0,
      "outputs": []
    },
    {
      "cell_type": "code",
      "metadata": {
        "id": "U2JSTw3u_6wv",
        "colab_type": "code",
        "colab": {}
      },
      "source": [
        "a3"
      ],
      "execution_count": 0,
      "outputs": []
    },
    {
      "cell_type": "code",
      "metadata": {
        "id": "youfjseJAXTc",
        "colab_type": "code",
        "colab": {}
      },
      "source": [
        "a4 = np.random.rand(3, 4)"
      ],
      "execution_count": 0,
      "outputs": []
    },
    {
      "cell_type": "code",
      "metadata": {
        "id": "dk3v2rCtAqa-",
        "colab_type": "code",
        "colab": {}
      },
      "source": [
        "a4"
      ],
      "execution_count": 0,
      "outputs": []
    },
    {
      "cell_type": "markdown",
      "metadata": {
        "id": "AvmjLbj9AxjQ",
        "colab_type": "text"
      },
      "source": [
        "### Reshaping"
      ]
    },
    {
      "cell_type": "code",
      "metadata": {
        "id": "JITDe0tuA12-",
        "colab_type": "code",
        "colab": {}
      },
      "source": [
        "a4.shape"
      ],
      "execution_count": 0,
      "outputs": []
    },
    {
      "cell_type": "code",
      "metadata": {
        "id": "rTMwdK0WA5F-",
        "colab_type": "code",
        "colab": {}
      },
      "source": [
        "a4.reshape(4, 3)"
      ],
      "execution_count": 0,
      "outputs": []
    },
    {
      "cell_type": "markdown",
      "metadata": {
        "id": "qC90PJthYB0A",
        "colab_type": "text"
      },
      "source": [
        "#### Pause here\n",
        " - What other shapes can you think of?\n",
        " - What is the most common scenario for reshaping?"
      ]
    },
    {
      "cell_type": "code",
      "metadata": {
        "id": "G-pI2WZaA9In",
        "colab_type": "code",
        "colab": {}
      },
      "source": [
        "a4.reshape(2, 2, 3)"
      ],
      "execution_count": 0,
      "outputs": []
    },
    {
      "cell_type": "markdown",
      "metadata": {
        "id": "MvUTKnkFQCdP",
        "colab_type": "text"
      },
      "source": [
        "### Slicing and indexing"
      ]
    },
    {
      "cell_type": "code",
      "metadata": {
        "id": "6Aj-IvIyQCdR",
        "colab_type": "code",
        "colab": {}
      },
      "source": [
        "myarray2[0, 0]"
      ],
      "execution_count": 0,
      "outputs": []
    },
    {
      "cell_type": "code",
      "metadata": {
        "id": "0-xTpWAhQCdW",
        "colab_type": "code",
        "colab": {}
      },
      "source": [
        "myarray2[0, :]"
      ],
      "execution_count": 0,
      "outputs": []
    },
    {
      "cell_type": "code",
      "metadata": {
        "id": "WVNl8N40QCdi",
        "colab_type": "code",
        "colab": {}
      },
      "source": [
        "myarray2[0, ::2]"
      ],
      "execution_count": 0,
      "outputs": []
    },
    {
      "cell_type": "code",
      "metadata": {
        "id": "gMzfqulYQCdv",
        "colab_type": "code",
        "colab": {}
      },
      "source": [
        "myarray2[:, ::2]"
      ],
      "execution_count": 0,
      "outputs": []
    },
    {
      "cell_type": "markdown",
      "metadata": {
        "id": "aQIQPj0ZQCd8",
        "colab_type": "text"
      },
      "source": [
        "### Assign values"
      ]
    },
    {
      "cell_type": "code",
      "metadata": {
        "id": "0Ua_ZLyzQCd_",
        "colab_type": "code",
        "colab": {}
      },
      "source": [
        "myarray2[0, 0] = 10"
      ],
      "execution_count": 0,
      "outputs": []
    },
    {
      "cell_type": "code",
      "metadata": {
        "id": "A3DVWoGlQCeP",
        "colab_type": "code",
        "colab": {}
      },
      "source": [
        "myarray2"
      ],
      "execution_count": 0,
      "outputs": []
    },
    {
      "cell_type": "code",
      "metadata": {
        "id": "jDeRHVJNQCeW",
        "colab_type": "code",
        "colab": {}
      },
      "source": [
        "myarray2[:, 0] = -1  # broadcast"
      ],
      "execution_count": 0,
      "outputs": []
    },
    {
      "cell_type": "code",
      "metadata": {
        "id": "mBTAuJsuQCed",
        "colab_type": "code",
        "colab": {}
      },
      "source": [
        "myarray2"
      ],
      "execution_count": 0,
      "outputs": []
    },
    {
      "cell_type": "markdown",
      "metadata": {
        "id": "ylhq3KzjXKT2",
        "colab_type": "text"
      },
      "source": [
        "#### Pause here\n",
        " - How will you set all of first row to 0?"
      ]
    },
    {
      "cell_type": "markdown",
      "metadata": {
        "colab_type": "text",
        "id": "saSDMJy1IPZs"
      },
      "source": [
        "### Check conditions on array elements\n",
        "- comparison\n",
        "- boolean arrays\n",
        "- functions for conditionals"
      ]
    },
    {
      "cell_type": "markdown",
      "metadata": {
        "id": "fF2-ZWMxA4ge",
        "colab_type": "text"
      },
      "source": [
        "Condition checks in simple Python:\n",
        "```python\n",
        "\n",
        "if a < 0:\n",
        "  print('a is negative')\n",
        "elif a > 0:\n",
        "  print('a is positive')\n",
        "else:\n",
        "  print('a == 0')\n",
        "  ```"
      ]
    },
    {
      "cell_type": "code",
      "metadata": {
        "colab_type": "code",
        "id": "DVYM3ZARIiXl",
        "colab": {}
      },
      "source": [
        "myarray > 2"
      ],
      "execution_count": 0,
      "outputs": []
    },
    {
      "cell_type": "code",
      "metadata": {
        "colab_type": "code",
        "id": "BrXyAsXMIyRH",
        "colab": {}
      },
      "source": [
        "np.nonzero(myarray > 2)"
      ],
      "execution_count": 0,
      "outputs": []
    },
    {
      "cell_type": "code",
      "metadata": {
        "colab_type": "code",
        "id": "4JaWGd9wIqnD",
        "colab": {}
      },
      "source": [
        "np.where(myarray > 2)"
      ],
      "execution_count": 0,
      "outputs": []
    },
    {
      "cell_type": "code",
      "metadata": {
        "colab_type": "code",
        "id": "k7Dc2yshJCnq",
        "colab": {}
      },
      "source": [
        "myarray2 > 3"
      ],
      "execution_count": 0,
      "outputs": []
    },
    {
      "cell_type": "code",
      "metadata": {
        "id": "S9rtiEEMQCfK",
        "colab_type": "code",
        "colab": {}
      },
      "source": [
        "np.nonzero(myarray2 > 3)"
      ],
      "execution_count": 0,
      "outputs": []
    },
    {
      "cell_type": "code",
      "metadata": {
        "colab_type": "code",
        "id": "pz2OC8wBJFqL",
        "colab": {}
      },
      "source": [
        "np.where(myarray2 > 3)"
      ],
      "execution_count": 0,
      "outputs": []
    },
    {
      "cell_type": "code",
      "metadata": {
        "colab_type": "code",
        "id": "gwXmFQH-JJjn",
        "colab": {}
      },
      "source": [
        "np.where(myarray2 > 3, 'X', 'Y')"
      ],
      "execution_count": 0,
      "outputs": []
    },
    {
      "cell_type": "markdown",
      "metadata": {
        "colab_type": "text",
        "id": "4e1BwL19JiTa"
      },
      "source": [
        "#### Pause here: read the documentation on `where`"
      ]
    },
    {
      "cell_type": "markdown",
      "metadata": {
        "id": "EL3TmFvdQCff",
        "colab_type": "text"
      },
      "source": [
        "## Array of heterogeneous data\n",
        "#### Pause here: let us discuss data types\n",
        "- What are data types?\n",
        "- What are some of the  data types in Python?\n"
      ]
    },
    {
      "cell_type": "code",
      "metadata": {
        "id": "hA0eZjz6QCfh",
        "colab_type": "code",
        "colab": {}
      },
      "source": [
        "harray = np.array([(1, 's', 3.14)])#, dtype=[('a', 'i8'), ('b', 'S1'), ('c', 'f4')])"
      ],
      "execution_count": 0,
      "outputs": []
    },
    {
      "cell_type": "code",
      "metadata": {
        "id": "faAQGQ4vQCfq",
        "colab_type": "code",
        "colab": {}
      },
      "source": [
        "harray"
      ],
      "execution_count": 0,
      "outputs": []
    },
    {
      "cell_type": "code",
      "metadata": {
        "id": "cvLfLlSOQCft",
        "colab_type": "code",
        "colab": {}
      },
      "source": [
        "harray = np.array([(1, 's', 3.14)], dtype=[('a', 'i8'), ('b', 'S1'), ('c', 'f4')])"
      ],
      "execution_count": 0,
      "outputs": []
    },
    {
      "cell_type": "code",
      "metadata": {
        "id": "hF-OiksUQCfy",
        "colab_type": "code",
        "colab": {}
      },
      "source": [
        "harray['a']"
      ],
      "execution_count": 0,
      "outputs": []
    },
    {
      "cell_type": "code",
      "metadata": {
        "id": "Rzgjg_YyQCgA",
        "colab_type": "code",
        "colab": {}
      },
      "source": [
        "harray[['a', 'b']]"
      ],
      "execution_count": 0,
      "outputs": []
    },
    {
      "cell_type": "markdown",
      "metadata": {
        "colab_type": "text",
        "id": "oD7AHSQPkEBF"
      },
      "source": [
        "## Using real data\n",
        "We shall use data from the Wisconsin breast cancer database available online."
      ]
    },
    {
      "cell_type": "code",
      "metadata": {
        "colab_type": "code",
        "id": "1t-9ikHbCh92",
        "colab": {}
      },
      "source": [
        "data_url = 'http://archive.ics.uci.edu/ml/machine-learning-databases/breast-cancer-wisconsin/breast-cancer-wisconsin.data'\n",
        "attr_url = 'http://archive.ics.uci.edu/ml/machine-learning-databases/breast-cancer-wisconsin/breast-cancer-wisconsin.names'"
      ],
      "execution_count": 0,
      "outputs": []
    },
    {
      "cell_type": "markdown",
      "metadata": {
        "colab_type": "text",
        "id": "CLpcf05pC2Eu"
      },
      "source": [
        "We just defined two variables above. We ask python to print the values:"
      ]
    },
    {
      "cell_type": "code",
      "metadata": {
        "colab_type": "code",
        "id": "Td-_jFuGCz3O",
        "colab": {}
      },
      "source": [
        "print(data_url)"
      ],
      "execution_count": 0,
      "outputs": []
    },
    {
      "cell_type": "markdown",
      "metadata": {
        "colab_type": "text",
        "id": "PzKSwY_4kPvS"
      },
      "source": [
        "Information about the data is available in `attr_url`. It is information in plain text. We use `http` protocol via functions in the `requests` library. When running Python from local computer, we could simply go to the url and download the file to the local filsystem."
      ]
    },
    {
      "cell_type": "code",
      "metadata": {
        "colab_type": "code",
        "id": "d_1rGoGsCyvd",
        "colab": {}
      },
      "source": [
        "attrs = requests.get(attr_url)"
      ],
      "execution_count": 0,
      "outputs": []
    },
    {
      "cell_type": "markdown",
      "metadata": {
        "colab_type": "text",
        "id": "h2Y1fQoMDStj"
      },
      "source": [
        "Skim through the attributes. The data is meaningless jumble of numbers without some of this information (metadata) Pay attention to 5-8."
      ]
    },
    {
      "cell_type": "code",
      "metadata": {
        "colab_type": "code",
        "id": "c6SgqHLYDI0H",
        "colab": {}
      },
      "source": [
        "print(attrs.content.decode('utf-8'))"
      ],
      "execution_count": 0,
      "outputs": []
    },
    {
      "cell_type": "markdown",
      "metadata": {
        "colab_type": "text",
        "id": "xxRQaGUbliQw"
      },
      "source": [
        "Retrieve the data from the web server into a string."
      ]
    },
    {
      "cell_type": "code",
      "metadata": {
        "colab_type": "code",
        "id": "SPJCGXr0DK_D",
        "colab": {}
      },
      "source": [
        "data_str = requests.get(data_url).content.decode('utf-8')"
      ],
      "execution_count": 0,
      "outputs": []
    },
    {
      "cell_type": "code",
      "metadata": {
        "colab_type": "code",
        "id": "uMKMLdOxD0He",
        "colab": {}
      },
      "source": [
        "print(data_str[:100])"
      ],
      "execution_count": 0,
      "outputs": []
    },
    {
      "cell_type": "code",
      "metadata": {
        "colab_type": "code",
        "id": "cPtWM3nrEQU2",
        "colab": {}
      },
      "source": [
        "type(data_str)"
      ],
      "execution_count": 0,
      "outputs": []
    },
    {
      "cell_type": "markdown",
      "metadata": {
        "colab_type": "text",
        "id": "fRhJtYFumLRi"
      },
      "source": [
        "### Read the data into a numpy array.\n",
        "With a python running on your own computer, you could simply download the data file manually and load it from local disk like: `np.genfromtext(filename, other arguments)`. Since we have a `str` instead of a file, we use a `StringIO` object around the string containing our data as a proxy for a file. "
      ]
    },
    {
      "cell_type": "code",
      "metadata": {
        "colab_type": "code",
        "id": "YkVegmqK__q7",
        "colab": {}
      },
      "source": [
        "data = np.loadtxt(io.StringIO(data_str), delimiter=',')"
      ],
      "execution_count": 0,
      "outputs": []
    },
    {
      "cell_type": "code",
      "metadata": {
        "colab_type": "code",
        "id": "pEthoBLhAMHJ",
        "colab": {}
      },
      "source": [
        "data = np.loadtxt(io.StringIO(data_str), delimiter=',', dtype=int)"
      ],
      "execution_count": 0,
      "outputs": []
    },
    {
      "cell_type": "code",
      "metadata": {
        "colab_type": "code",
        "id": "031fUjsOAY9S",
        "colab": {}
      },
      "source": [
        "data = np.loadtxt(io.StringIO(data_str), delimiter=',', dtype=str)"
      ],
      "execution_count": 0,
      "outputs": []
    },
    {
      "cell_type": "code",
      "metadata": {
        "colab_type": "code",
        "id": "pTaPzS65AcUl",
        "colab": {}
      },
      "source": [
        "print(data[:25])"
      ],
      "execution_count": 0,
      "outputs": []
    },
    {
      "cell_type": "markdown",
      "metadata": {
        "colab_type": "text",
        "id": "XQ80U_ECsy4W"
      },
      "source": [
        "Note that counting starts with 0 in Python. `[:25]` indicates range. We shall talk about range and slices soon."
      ]
    },
    {
      "cell_type": "code",
      "metadata": {
        "colab_type": "code",
        "id": "tAlePxyFsm7X",
        "colab": {}
      },
      "source": [
        "data[23]"
      ],
      "execution_count": 0,
      "outputs": []
    },
    {
      "cell_type": "markdown",
      "metadata": {
        "colab_type": "text",
        "id": "QLP1ZSv67xkn"
      },
      "source": [
        "**Not nice!**\n",
        "- We have to define the field names and their data type here. \n"
      ]
    },
    {
      "cell_type": "code",
      "metadata": {
        "colab_type": "code",
        "id": "lkLfWNZaFdLk",
        "colab": {}
      },
      "source": [
        " #columns = ['SCN', 'thickness', 'sizeu', 'shapeu', 'adhesion', 'csize', 'bare', 'blandchrom', 'normncl', 'mitoses', 'cclass']\n",
        "dtype = [('SCN', int), ('thickness', int), ('sizeu', int), ('shapeu', int), ('adhesion', int), ('csize', int), ('bare', int), ('blandchrom', int), ('normncl', int), ('mitoses', int), ('cclass', int)]\n",
        "# dtype = [('SCN', 'u8'), ('thickness', 'u1'), ('sizeu', 'u1'), ('shapeu', 'u1'), ('adhesion', 'u1'), ('csize', 'u1'), ('bare', 'u1'), ('blandchrom', 'u1'), ('normncl', 'u1'), ('mitoses', 'u1'), ('cclass', 'u1')]\n"
      ],
      "execution_count": 0,
      "outputs": []
    },
    {
      "cell_type": "code",
      "metadata": {
        "colab_type": "code",
        "id": "ZDGAvvbbmXDf",
        "colab": {}
      },
      "source": [
        "data = np.genfromtxt(io.StringIO(data_str), delimiter=',', dtype=dtype, missing_values=np.nan)"
      ],
      "execution_count": 0,
      "outputs": []
    },
    {
      "cell_type": "code",
      "metadata": {
        "id": "eGy6yIVu9ST6",
        "colab_type": "code",
        "colab": {}
      },
      "source": [
        "print(data.shape)"
      ],
      "execution_count": 0,
      "outputs": []
    },
    {
      "cell_type": "code",
      "metadata": {
        "colab_type": "code",
        "id": "wUcFD1Kun2aV",
        "colab": {}
      },
      "source": [
        "print(data[: 25])"
      ],
      "execution_count": 0,
      "outputs": []
    },
    {
      "cell_type": "markdown",
      "metadata": {
        "colab_type": "text",
        "id": "by6opEv9rvST"
      },
      "source": [
        "- Look at the original data file. \n",
        "- Note 24-th row has missing data with `?` inserted in place of a number. \n",
        "- Numpy converted it to -1.\n",
        "- The exact value depends on what data type you choose in the `dtype` specification. \n",
        "- Careful about how missing values are represented.\n",
        "- Leaving a non-space, non-numeric character where a number is expected is generally a bad idea."
      ]
    },
    {
      "cell_type": "code",
      "metadata": {
        "colab_type": "code",
        "id": "GvuqAFnioF_t",
        "colab": {}
      },
      "source": [
        "type(data)"
      ],
      "execution_count": 0,
      "outputs": []
    },
    {
      "cell_type": "code",
      "metadata": {
        "colab_type": "code",
        "id": "_mZsHPFxSUs_",
        "colab": {}
      },
      "source": [
        "data.dtype"
      ],
      "execution_count": 0,
      "outputs": []
    },
    {
      "cell_type": "markdown",
      "metadata": {
        "colab_type": "text",
        "id": "Hqfb4KG0FiXm"
      },
      "source": [
        "### Accessing fields in the data"
      ]
    },
    {
      "cell_type": "code",
      "metadata": {
        "colab_type": "code",
        "id": "ljz9Xqe9FxBL",
        "colab": {}
      },
      "source": [
        "data['SCN']"
      ],
      "execution_count": 0,
      "outputs": []
    },
    {
      "cell_type": "code",
      "metadata": {
        "colab_type": "code",
        "id": "FKD5mL_MF5p2",
        "colab": {}
      },
      "source": [
        "data['SCN'][2]"
      ],
      "execution_count": 0,
      "outputs": []
    },
    {
      "cell_type": "code",
      "metadata": {
        "colab_type": "code",
        "id": "80PqJbHrF8SR",
        "colab": {}
      },
      "source": [
        "data[2]['SCN']"
      ],
      "execution_count": 0,
      "outputs": []
    },
    {
      "cell_type": "code",
      "metadata": {
        "colab_type": "code",
        "id": "Ua6H189mF_fy",
        "colab": {}
      },
      "source": [
        "data[2][0]"
      ],
      "execution_count": 0,
      "outputs": []
    },
    {
      "cell_type": "code",
      "metadata": {
        "colab_type": "code",
        "id": "5qbzTwTjGJNB",
        "colab": {}
      },
      "source": [
        "data[2, 0]"
      ],
      "execution_count": 0,
      "outputs": []
    },
    {
      "cell_type": "markdown",
      "metadata": {
        "colab_type": "text",
        "id": "RF3qYZqM_12Z"
      },
      "source": [
        "#### Pause here: how can we check for missing data?\n",
        "- What did we find about representation of missing data in this case?\n",
        "- We can try to compare the element values to this missing data representative.\n",
        "- `numpy` function `where` lets us check a condition on each element of an array.\n"
      ]
    },
    {
      "cell_type": "code",
      "metadata": {
        "colab_type": "code",
        "id": "FPRD5IVCKAeJ",
        "colab": {}
      },
      "source": [
        "np.where(data == -1)"
      ],
      "execution_count": 0,
      "outputs": []
    },
    {
      "cell_type": "markdown",
      "metadata": {
        "colab_type": "text",
        "id": "AR08zlK5KNGR"
      },
      "source": [
        "#### Pause here: Let us try one column at a time.\n",
        "- How can we check the columns one by one?"
      ]
    },
    {
      "cell_type": "code",
      "metadata": {
        "colab_type": "code",
        "id": "6fuw4QyoobSc",
        "colab": {}
      },
      "source": [
        "for name in data.dtype.names:\n",
        "  print(f'{name}: missing data in rows: {np.where(data[name] < 0)}')"
      ],
      "execution_count": 0,
      "outputs": []
    },
    {
      "cell_type": "markdown",
      "metadata": {
        "colab_type": "text",
        "id": "Mcvnl6CxKUMK"
      },
      "source": [
        "#### Pause here: *for loop* and `fstring`\n",
        "- That is a `for` loop. Python has `while` loop for conditional looping.\n",
        "  ```python\n",
        "x = 0\n",
        "while x < 10:\n",
        "    print(x)\n",
        "    x += 1\n",
        "  \n",
        "  ```\n",
        "- `f'text {variable} text'` is a new and convenient way of formatting strings in Python (version 3.6 onwards)."
      ]
    },
    {
      "cell_type": "markdown",
      "metadata": {
        "id": "1uYEGVcmQCi3",
        "colab_type": "text"
      },
      "source": [
        "## Plotting data"
      ]
    },
    {
      "cell_type": "code",
      "metadata": {
        "id": "LPPpV3uzQCi5",
        "colab_type": "code",
        "colab": {}
      },
      "source": [
        "plt.plot(data['thickness'])"
      ],
      "execution_count": 0,
      "outputs": []
    },
    {
      "cell_type": "code",
      "metadata": {
        "id": "l_V2N0HNQCi7",
        "colab_type": "code",
        "colab": {}
      },
      "source": [
        "plt.plot(data['thickness'], 'o')"
      ],
      "execution_count": 0,
      "outputs": []
    },
    {
      "cell_type": "code",
      "metadata": {
        "id": "aAh6TnVAQCi-",
        "colab_type": "code",
        "colab": {}
      },
      "source": [
        "plt.plot(data['thickness'], data['csize'], 'o')"
      ],
      "execution_count": 0,
      "outputs": []
    },
    {
      "cell_type": "code",
      "metadata": {
        "id": "2hPZ0_YKQCjC",
        "colab_type": "code",
        "colab": {}
      },
      "source": [
        "plt.plot(data['sizeu'], data['csize'], 'ro')"
      ],
      "execution_count": 0,
      "outputs": []
    },
    {
      "cell_type": "code",
      "metadata": {
        "id": "P3HcwOC8QCjH",
        "colab_type": "code",
        "colab": {}
      },
      "source": [
        "plt.plot(data['mitoses'], data['csize'], 'go-')"
      ],
      "execution_count": 0,
      "outputs": []
    },
    {
      "cell_type": "code",
      "metadata": {
        "id": "9il5dxjzQCjN",
        "colab_type": "code",
        "colab": {}
      },
      "source": [
        "plt.hist(data['csize'])"
      ],
      "execution_count": 0,
      "outputs": []
    },
    {
      "cell_type": "code",
      "metadata": {
        "id": "gQYbaNG5lgbj",
        "colab_type": "code",
        "colab": {}
      },
      "source": [
        "plt.boxplot([data['csize'], data['mitoses']])"
      ],
      "execution_count": 0,
      "outputs": []
    },
    {
      "cell_type": "code",
      "metadata": {
        "colab_type": "code",
        "id": "XHxUk-h-pDNU",
        "colab": {}
      },
      "source": [
        "# pdata = pd.read_csv(data_url, names=data.dtype.names)"
      ],
      "execution_count": 0,
      "outputs": []
    },
    {
      "cell_type": "code",
      "metadata": {
        "colab_type": "code",
        "id": "5s14fUsHqUkZ",
        "colab": {}
      },
      "source": [
        "# pdata.iloc[23]"
      ],
      "execution_count": 0,
      "outputs": []
    },
    {
      "cell_type": "code",
      "metadata": {
        "colab_type": "code",
        "id": "S3u4ptEkrie3",
        "colab": {}
      },
      "source": [
        "# pdata.columns"
      ],
      "execution_count": 0,
      "outputs": []
    },
    {
      "cell_type": "markdown",
      "metadata": {
        "id": "-ZL1AaCqrln7",
        "colab_type": "text"
      },
      "source": [
        "### Adding legend"
      ]
    },
    {
      "cell_type": "code",
      "metadata": {
        "id": "PjGjre4cF73H",
        "colab_type": "code",
        "colab": {}
      },
      "source": [
        "plt.legend()"
      ],
      "execution_count": 0,
      "outputs": []
    },
    {
      "cell_type": "markdown",
      "metadata": {
        "id": "YSs2LPXIlE7Q",
        "colab_type": "text"
      },
      "source": [
        "### Subplots\n"
      ]
    },
    {
      "cell_type": "code",
      "metadata": {
        "id": "vwDCkxqzGLBh",
        "colab_type": "code",
        "colab": {}
      },
      "source": [
        "ax0 = plt.subplot(2, 2, 1)\n",
        "ax1 = plt.subplot(2, 2, 2)\n",
        "ax2 = plt.subplot(2, 2, 3)\n",
        "ax3 = plt.subplot(2, 2, 4)"
      ],
      "execution_count": 0,
      "outputs": []
    },
    {
      "cell_type": "code",
      "metadata": {
        "id": "Gv664JRYGDFc",
        "colab_type": "code",
        "colab": {}
      },
      "source": [
        "fig, ax = plt.subplots(nrows=2, ncols=2)"
      ],
      "execution_count": 0,
      "outputs": []
    },
    {
      "cell_type": "markdown",
      "metadata": {
        "id": "eImgMXAPGAnd",
        "colab_type": "text"
      },
      "source": [
        "#### Sharing axis scales between subplots"
      ]
    },
    {
      "cell_type": "code",
      "metadata": {
        "id": "waOjl4quGaZ0",
        "colab_type": "code",
        "colab": {}
      },
      "source": [
        "ax0 = plt.subplot(2, 2, 1)\n",
        "ax1 = plt.subplot(2, 2, 2, sharey=ax0)"
      ],
      "execution_count": 0,
      "outputs": []
    },
    {
      "cell_type": "code",
      "metadata": {
        "id": "dnj7LrDCGqHg",
        "colab_type": "code",
        "colab": {}
      },
      "source": [
        "fig, ax = plt.subplots(nrows=2, ncols=2, sharey='row')"
      ],
      "execution_count": 0,
      "outputs": []
    },
    {
      "cell_type": "markdown",
      "metadata": {
        "id": "SS78DuAMlGAb",
        "colab_type": "text"
      },
      "source": [
        "### Layout control"
      ]
    },
    {
      "cell_type": "markdown",
      "metadata": {
        "id": "gTmO0M32lUiZ",
        "colab_type": "text"
      },
      "source": [
        "### Further information on plotting\n",
        " - See https://matplotlib.org/gallery.html"
      ]
    },
    {
      "cell_type": "markdown",
      "metadata": {
        "id": "qGiAbiMwmd8B",
        "colab_type": "text"
      },
      "source": [
        "### Other useful libraries\n",
        "  1. Multidimensional arrays with complex data and metadata: `xarray`\n",
        "  1. Statistics: `statsmodels`\n",
        "  1. Image-processing: `PIL`, `opencv`, `imagej`\n",
        "  1. Machine learning: `scikits-learn`\n",
        "  1. Network analysis: `networkx`\n",
        "  1. HDF5: `h5py`\n",
        "  1. User interfaces: `PyQT`\n",
        "  1. Efficient plotting: `pyqtgraph`\n",
        "  1. Broad range of basic functions in science and engineering: `scipy`\n",
        "  1. Symbolic mathematics: `sympy`, (also `sage` - a whole environment like `Mathematica`)"
      ]
    }
  ]
}